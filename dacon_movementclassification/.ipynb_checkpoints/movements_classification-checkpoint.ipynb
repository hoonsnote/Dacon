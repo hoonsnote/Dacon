{
 "cells": [
  {
   "cell_type": "code",
   "execution_count": null,
   "metadata": {
    "id": "G-VFOJVoRLso"
   },
   "outputs": [],
   "source": [
    "import warnings\n",
    "warnings.filterwarnings(action='ignore')\n",
    "\n",
    "import pandas as pd\n",
    "import numpy as np\n",
    "import random\n",
    "from tqdm.notebook import tqdm\n",
    "from scipy.interpolate import CubicSpline\n",
    "from sklearn.preprocessing import LabelEncoder, StandardScaler, OneHotEncoder, RobustScaler, MinMaxScaler\n",
    "from sklearn.metrics import mean_absolute_error, log_loss\n",
    "import matplotlib.pyplot as plt\n",
    "%matplotlib inline\n",
    "import tensorflow as tf\n",
    "import keras\n",
    "from tensorflow.keras.optimizers import Adamax, Adam\n",
    "from tensorflow.keras.models import Sequential, Model,load_model\n",
    "from tensorflow.keras.layers import Permute,multiply,Add,Multiply,BatchNormalization,Dropout, Conv1D, Input, Flatten, Bidirectional, MaxPooling1D, Activation, Flatten, Dense, Dropout, BatchNormalization, LSTM, TimeDistributed, SpatialDropout1D, GaussianNoise\n",
    "from tensorflow.keras.callbacks import EarlyStopping, ModelCheckpoint\n",
    "from keras.layers.merge import concatenate\n",
    "from tensorflow.keras.utils import to_categorical, plot_model\n",
    "import pydot\n",
    "import graphviz"
   ]
  },
  {
   "cell_type": "markdown",
   "metadata": {
    "id": "4CEoxEtJhxfQ"
   },
   "source": [
    "# 데이터 불러오기"
   ]
  },
  {
   "cell_type": "code",
   "execution_count": null,
   "metadata": {
    "id": "FB3O3KScDa7O"
   },
   "outputs": [],
   "source": [
    "submission=pd.read_csv('/content/drive/MyDrive/dacon/classfication/sample_submission.csv')\n",
    "test=pd.read_csv('/content/drive/MyDrive/dacon/classfication/test_features.csv')\n",
    "train_labels=pd.read_csv('/content/drive/MyDrive/dacon/classfication/train_labels.csv')\n",
    "train=pd.read_csv('/content/drive/MyDrive/dacon/classfication/train_features.csv')"
   ]
  },
  {
   "cell_type": "code",
   "execution_count": null,
   "metadata": {
    "colab": {
     "base_uri": "https://localhost:8080/",
     "height": 339
    },
    "executionInfo": {
     "elapsed": 8128,
     "status": "ok",
     "timestamp": 1615094070831,
     "user": {
      "displayName": "신동훈",
      "photoUrl": "",
      "userId": "05309578636363571738"
     },
     "user_tz": -540
    },
    "id": "x1LAU4lUm05O",
    "outputId": "908f7766-d333-4a17-be3b-db891fa1bc55"
   },
   "outputs": [
    {
     "data": {
      "text/plain": [
       "<matplotlib.axes._subplots.AxesSubplot at 0x7fac1cd64290>"
      ]
     },
     "execution_count": 3,
     "metadata": {
      "tags": []
     },
     "output_type": "execute_result"
    },
    {
     "data": {
      "image/png": "[encoded data removed]",
      "text/plain": [
       "<Figure size 720x360 with 1 Axes>"
      ]
     },
     "metadata": {
      "needs_background": "light",
      "tags": []
     },
     "output_type": "display_data"
    }
   ],
   "source": [
    "plt.figure(figsize=(10,5))\n",
    "train_labels['label'].value_counts().plot(kind='bar')"
   ]
  },
  {
   "cell_type": "markdown",
   "metadata": {
    "id": "zqKdrcYmGm5A"
   },
   "source": [
    "# 데이터 전처리"
   ]
  },
  {
   "cell_type": "markdown",
   "metadata": {
    "id": "gQSC9g8hL3-u"
   },
   "source": [
    "### Data Split"
   ]
  },
  {
   "cell_type": "code",
   "execution_count": null,
   "metadata": {
    "id": "hWNl2VD9Da7P"
   },
   "outputs": [],
   "source": [
    "act_list=train.iloc[:,2:].columns\n",
    "acc_list=['acc_x','acc_y','acc_z']\n",
    "gy_list=['gy_x','gy_y','gy_z']"
   ]
  },
  {
   "cell_type": "code",
   "execution_count": null,
   "metadata": {
    "id": "_dB7sWjkDa7P"
   },
   "outputs": [],
   "source": [
    "# Scaling\n",
    "\n",
    "scaler=StandardScaler()\n",
    "train[act_list]=scaler.fit_transform(train[act_list])\n",
    "test[act_list]=scaler.transform(test[act_list])"
   ]
  },
  {
   "cell_type": "code",
   "execution_count": null,
   "metadata": {
    "id": "6jJS4rZfi7Q8"
   },
   "outputs": [],
   "source": [
    "# train, valid split : 약 3125개 label 중 약 15%인 470개를 validation set으로 분할\n",
    "\n",
    "def train_valid_split(data):   \n",
    "  valid_index = random.sample(range(0,3125),470)\n",
    "  train_index = list(set(range(0,3125))-set(valid_index))\n",
    "  X_train=pd.DataFrame()\n",
    "  X_valid=pd.DataFrame()\n",
    "  y_train=train_labels.loc[train_index]\n",
    "  y_valid=train_labels.loc[valid_index]\n",
    "  for i in tqdm(train_index):\n",
    "    X_train=pd.concat([X_train,train[train['id']==i]],axis=0)\n",
    "  for i in tqdm(valid_index):\n",
    "    X_valid=pd.concat([X_valid,train[train['id']==i]],axis=0)\n",
    "    \n",
    "  return X_train, X_valid, y_train, y_valid"
   ]
  },
  {
   "cell_type": "code",
   "execution_count": null,
   "metadata": {
    "colab": {
     "base_uri": "https://localhost:8080/",
     "height": 115,
     "referenced_widgets": [
      "7cb1204fc09d4f20b6250d68a76da8ed",
      "0f7eed026d124e92bb6c8b91030a0bb1",
      "a70a15cfbf8947c69029f9324770d8b9",
      "875a9a0faaa849d4a6f44f11108d19cc",
      "daf7171043114a4e884f3c07707f7576",
      "f71c644b36b948c5af2d345746581ed8",
      "a655d61f6d1b404a97c4a5e63d453bed",
      "e2278f2c2217423ea3991a8c37c4fb78",
      "8820f00b7ae84166924d86151da959e0",
      "70d96d9515264df4a59a16f0cf13f23f",
      "2d03a20203e94c3b87e1cad948a6fcd1",
      "7886f73c38b44113a7a90288ebb33221",
      "ac4f7417a4574bfd868fa5addc523aa6",
      "0fd90553adde492bb596266689cdcd3e",
      "f531a87d50ef4096b6df447bb986c126",
      "6af7a8da2c344a7c9dd60fe04822b63d"
     ]
    },
    "executionInfo": {
     "elapsed": 57859,
     "status": "ok",
     "timestamp": 1615094127475,
     "user": {
      "displayName": "신동훈",
      "photoUrl": "",
      "userId": "05309578636363571738"
     },
     "user_tz": -540
    },
    "id": "k3X6KCPfi7Q8",
    "outputId": "474b9487-c956-41a2-c457-43480593d702"
   },
   "outputs": [
    {
     "data": {
      "application/vnd.jupyter.widget-view+json": {
       "model_id": "7cb1204fc09d4f20b6250d68a76da8ed",
       "version_major": 2,
       "version_minor": 0
      },
      "text/plain": [
       "HBox(children=(FloatProgress(value=0.0, max=2655.0), HTML(value='')))"
      ]
     },
     "metadata": {
      "tags": []
     },
     "output_type": "display_data"
    },
    {
     "name": "stdout",
     "output_type": "stream",
     "text": [
      "\n"
     ]
    },
    {
     "data": {
      "application/vnd.jupyter.widget-view+json": {
       "model_id": "8820f00b7ae84166924d86151da959e0",
       "version_major": 2,
       "version_minor": 0
      },
      "text/plain": [
       "HBox(children=(FloatProgress(value=0.0, max=470.0), HTML(value='')))"
      ]
     },
     "metadata": {
      "tags": []
     },
     "output_type": "display_data"
    },
    {
     "name": "stdout",
     "output_type": "stream",
     "text": [
      "\n"
     ]
    }
   ],
   "source": [
    "X_train, X_valid, y_train, y_valid=train_valid_split(train)"
   ]
  },
  {
   "cell_type": "code",
   "execution_count": null,
   "metadata": {
    "id": "7vYPKmxdl1mM"
   },
   "outputs": [],
   "source": [
    "# acceleromete, gyroscope sensor feature split\n",
    "def sensor_split(data):\n",
    "  X_acc = []\n",
    "  X_gy = []\n",
    "\n",
    "  for i in tqdm(data['id'].unique()):\n",
    "      temp_acc = np.array(data[data['id'] == i].loc[:,acc_list])\n",
    "      temp_gy = np.array(data[data['id'] == i].loc[:,gy_list])\n",
    "      X_acc.append(temp_acc)\n",
    "      X_gy.append(temp_gy)\n",
    "      \n",
    "  X_acc = np.array(X_acc).reshape(-1,600,3)\n",
    "  X_gy = np.array(X_gy).reshape(-1,600,3)\n",
    "\n",
    "  return X_acc, X_gy"
   ]
  },
  {
   "cell_type": "code",
   "execution_count": null,
   "metadata": {
    "id": "czVm3wf6HPiv"
   },
   "outputs": [],
   "source": [
    "# 26(Non-exercise) data, 이 외 label data 분할\n",
    "X_train_mod=pd.merge(X_train,y_train,how='left',on='id')\n",
    "X_train_26=X_train_mod[X_train_mod['label']==26]\n",
    "X_train_n26=X_train_mod[X_train_mod['label']!=26]"
   ]
  },
  {
   "cell_type": "code",
   "execution_count": null,
   "metadata": {
    "colab": {
     "base_uri": "https://localhost:8080/",
     "height": 213,
     "referenced_widgets": [
      "275459b36a524097a353c4f680b4e73c",
      "8a5a41a90a61442a85e8a941bd94839d",
      "83b538420ed14df786aca26d888b98dd",
      "fbc10c1693a24c3f8d806b9c496d69c8",
      "f562dd2fa8c84c8ebfc11b5ede94f762",
      "074b037c8af541818aa4ce03fa4215f9",
      "e123f4d83f8a4fa699a834a4a68811b7",
      "ca35164d78084bf1a8393e8aca20709b",
      "79306bc95b114924b608479e5cb93701",
      "4ad2dc2bd1d6446db50611c9e7ea290b",
      "3de06240e2ed4f47a6a7fda4c82feb1c",
      "74c7a00e0ba3427a93a6a96e7babdcd7",
      "5291cb5edee14a2db28ac2cc517f930f",
      "711b8fc6a010475f90ad7ac49b315de6",
      "e6216dd9651a4c768f65c63575aaf60a",
      "4d2d088090dd4559819af3e335797633",
      "8d81db5e1dd540dd9328dc7048d8d9f7",
      "158beb542a97469781471582c4ec0423",
      "916957a8384645f09e2b05e987de8962",
      "2d6fe60ac558494c8ef6ceb53042802d",
      "0bfbc2e0e8244a2a963d1dd02376630d",
      "4b43eea2169f4a638b613b7fc8293e69",
      "24a2afc1b4bc4e409b01503bce298571",
      "c719dc6e69e344a3be40db189d8c3f3a",
      "7fedcde9c2ce410a8fdebe275b031b96",
      "6a901692273e43588617f8f7ea3e40f2",
      "132d9c1b29dc40adb93967449050913e",
      "0b070cb5cea243acb5326c36c2ccdaca",
      "255be6d7f16d404b971ea1ec0f91ae7b",
      "c562abc668594bcf8c26e0577a9507d6",
      "f2515a594d374024baa671812b36bb8a",
      "25810d2861ae4210a89c203ade565972"
     ]
    },
    "executionInfo": {
     "elapsed": 13743,
     "status": "ok",
     "timestamp": 1615094147595,
     "user": {
      "displayName": "신동훈",
      "photoUrl": "",
      "userId": "05309578636363571738"
     },
     "user_tz": -540
    },
    "id": "_6yyFHh1HPiw",
    "outputId": "e62b75ea-61ed-4850-ad9a-6fe42028a9cf"
   },
   "outputs": [
    {
     "data": {
      "application/vnd.jupyter.widget-view+json": {
       "model_id": "275459b36a524097a353c4f680b4e73c",
       "version_major": 2,
       "version_minor": 0
      },
      "text/plain": [
       "HBox(children=(FloatProgress(value=0.0, max=1290.0), HTML(value='')))"
      ]
     },
     "metadata": {
      "tags": []
     },
     "output_type": "display_data"
    },
    {
     "name": "stdout",
     "output_type": "stream",
     "text": [
      "\n"
     ]
    },
    {
     "data": {
      "application/vnd.jupyter.widget-view+json": {
       "model_id": "79306bc95b114924b608479e5cb93701",
       "version_major": 2,
       "version_minor": 0
      },
      "text/plain": [
       "HBox(children=(FloatProgress(value=0.0, max=1365.0), HTML(value='')))"
      ]
     },
     "metadata": {
      "tags": []
     },
     "output_type": "display_data"
    },
    {
     "name": "stdout",
     "output_type": "stream",
     "text": [
      "\n"
     ]
    },
    {
     "data": {
      "application/vnd.jupyter.widget-view+json": {
       "model_id": "8d81db5e1dd540dd9328dc7048d8d9f7",
       "version_major": 2,
       "version_minor": 0
      },
      "text/plain": [
       "HBox(children=(FloatProgress(value=0.0, max=470.0), HTML(value='')))"
      ]
     },
     "metadata": {
      "tags": []
     },
     "output_type": "display_data"
    },
    {
     "name": "stdout",
     "output_type": "stream",
     "text": [
      "\n"
     ]
    },
    {
     "data": {
      "application/vnd.jupyter.widget-view+json": {
       "model_id": "7fedcde9c2ce410a8fdebe275b031b96",
       "version_major": 2,
       "version_minor": 0
      },
      "text/plain": [
       "HBox(children=(FloatProgress(value=0.0, max=782.0), HTML(value='')))"
      ]
     },
     "metadata": {
      "tags": []
     },
     "output_type": "display_data"
    },
    {
     "name": "stdout",
     "output_type": "stream",
     "text": [
      "\n"
     ]
    }
   ],
   "source": [
    "X_train_acc_26, X_train_gy_26= sensor_split(X_train_26)\n",
    "X_train_acc_n26, X_train_gy_n26= sensor_split(X_train_n26)\n",
    "\n",
    "X_valid_acc, X_valid_gy= sensor_split(X_valid)\n",
    "X_test_acc, X_test_gy= sensor_split(test)"
   ]
  },
  {
   "cell_type": "markdown",
   "metadata": {
    "id": "IugXiyweLzLy"
   },
   "source": [
    "### Augmentation"
   ]
  },
  {
   "cell_type": "code",
   "execution_count": null,
   "metadata": {
    "id": "TgAGno6KBGK-"
   },
   "outputs": [],
   "source": [
    "# Shift\n",
    "def aug(data, uid, shift):\n",
    "    shift_data = np.roll(data[uid], shift, axis=0)\n",
    "    return shift_data\n",
    "def shift_aug(data):\n",
    "  aug_data=[]\n",
    "  for i in range(data.shape[0]):\n",
    "    temp=list((aug(data,i,int(random.random()*600))))\n",
    "    aug_data.append(temp)\n",
    "  return np.array(aug_data)\n",
    "\n",
    "\n",
    "# Jitter\n",
    "sigma=0.05\n",
    "def Jitter(X, sigma):\n",
    "    myNoise = np.random.normal(loc=0, scale=sigma, size=X.shape)\n",
    "    return X+myNoise\n",
    "\n",
    "# Scaling\n",
    "def Scaling(X, sigma):\n",
    "    scalingFactor = np.random.normal(loc=1.0, scale=sigma, size=(1,X.shape[1])) # shape=(1,3)\n",
    "    myNoise = np.matmul(np.ones((X.shape[0],1)), scalingFactor)\n",
    "    return X*myNoise\n",
    "\n",
    "# Magnitude Warping\n",
    "sigma = 0.2\n",
    "knot = 4\n",
    "def GenerateRandomCurves(X, sigma, knot=4):\n",
    "    xx = (np.ones((X.shape[1],1))*(np.arange(0,X.shape[0], (X.shape[0]-1)/(knot+1)))).transpose()\n",
    "    yy = np.random.normal(loc=1.0, scale=sigma, size=(knot+2, X.shape[1]))\n",
    "    x_range = np.arange(X.shape[0])\n",
    "    cs_x = CubicSpline(xx[:,0], yy[:,0])\n",
    "    cs_y = CubicSpline(xx[:,1], yy[:,1])\n",
    "    cs_z = CubicSpline(xx[:,2], yy[:,2])\n",
    "    return np.array([cs_x(x_range),cs_y(x_range),cs_z(x_range)]).transpose()\n",
    "def MagWarp(X, sigma):\n",
    "    return X * GenerateRandomCurves(X, sigma)\n",
    "\n",
    "# Time Warping\n",
    "sigma = 0.2\n",
    "knot = 4\n",
    "def DistortTimesteps(X, sigma):\n",
    "    tt = GenerateRandomCurves(X, sigma) # Regard these samples aroun 1 as time intervals\n",
    "    tt_cum = np.cumsum(tt, axis=0)        # Add intervals to make a cumulative graph\n",
    "    # Make the last value to have X.shape[0]\n",
    "    t_scale = [(X.shape[0]-1)/tt_cum[-1,0],(X.shape[0]-1)/tt_cum[-1,1],(X.shape[0]-1)/tt_cum[-1,2]]\n",
    "    tt_cum[:,0] = tt_cum[:,0]*t_scale[0]\n",
    "    tt_cum[:,1] = tt_cum[:,1]*t_scale[1]\n",
    "    tt_cum[:,2] = tt_cum[:,2]*t_scale[2]\n",
    "    return tt_cum\n",
    "def TimeWarp(X, sigma):\n",
    "    tt_new = DistortTimesteps(X, sigma)\n",
    "    X_new = np.zeros(X.shape)\n",
    "    x_range = np.arange(X.shape[0])\n",
    "    X_new[:,0] = np.interp(x_range, tt_new[:,0], X[:,0])\n",
    "    X_new[:,1] = np.interp(x_range, tt_new[:,1], X[:,1])\n",
    "    X_new[:,2] = np.interp(x_range, tt_new[:,2], X[:,2])\n",
    "    return X_new\n",
    "\n",
    "# Cropping\n",
    "def crop(X_acc,X_gy,y_data,data_length,data_interval,time_step,start_index,history_size,y=True):\n",
    "  X_train_seq_acc=[]\n",
    "  X_train_seq_gy=[]\n",
    "  y_train_seq=[]\n",
    "  start_index=start_index+history_size\n",
    "  \n",
    "  if y==True:\n",
    "    for i in tqdm(range(X_acc.shape[0])):\n",
    "      for j in range(start_index,data_length+1,data_interval):\n",
    "        index=range(j-history_size,j,time_step)\n",
    "        X_train_seq_acc.append(list(X_acc[i,index,:]))\n",
    "        X_train_seq_gy.append(list(X_gy[i,index,:]))\n",
    "        y_train_seq.append(y_data[i])\n",
    "    return np.array(X_train_seq_acc), np.array(X_train_seq_gy), np.array(y_train_seq)\n",
    "  \n",
    "  else:\n",
    "    for i in tqdm(range(X_acc.shape[0])):\n",
    "      for j in range(start_index,data_length+1,data_interval):\n",
    "        index=range(j-history_size,j,time_step)\n",
    "        X_train_seq_acc.append(list(X_acc[i,index,:]))\n",
    "        X_train_seq_gy.append(list(X_gy[i,index,:]))\n",
    "    return np.array(X_train_seq_acc), np.array(X_train_seq_gy)"
   ]
  },
  {
   "cell_type": "code",
   "execution_count": null,
   "metadata": {
    "id": "49RpBlAOPXyg"
   },
   "outputs": [],
   "source": [
    "def ts_aug(data, method,sigma):\n",
    "  new_data=[]\n",
    "  for i in range(data.shape[0]):\n",
    "    temp=list(method(data[i], sigma))\n",
    "    new_data.append(temp)\n",
    "  return np.array(new_data)"
   ]
  },
  {
   "cell_type": "code",
   "execution_count": null,
   "metadata": {
    "id": "u04kFZ6fIUFc"
   },
   "outputs": [],
   "source": [
    "X_train_acc_n26_shift = shift_aug(X_train_acc_n26)\n",
    "X_train_acc_n26_timewarp = ts_aug(X_train_acc_n26, TimeWarp,0.2)\n",
    "X_train_acc_n26_magwarp = ts_aug(X_train_acc_n26, MagWarp,0.2)\n",
    "\n",
    "X_train_gy_n26_shift = shift_aug(X_train_gy_n26)\n",
    "X_train_gy_n26_timewarp = ts_aug(X_train_gy_n26, TimeWarp,0.2)\n",
    "X_train_gy_n26_magwarp = ts_aug(X_train_gy_n26, MagWarp,0.2)"
   ]
  },
  {
   "cell_type": "code",
   "execution_count": null,
   "metadata": {
    "id": "X6eRli_5HSHG"
   },
   "outputs": [],
   "source": [
    "y_train_26=y_train[y_train['label']==26]['label']\n",
    "y_train_n26=y_train[y_train['label']!=26]['label']"
   ]
  },
  {
   "cell_type": "code",
   "execution_count": null,
   "metadata": {
    "id": "88W2N-SnIUFd"
   },
   "outputs": [],
   "source": [
    "X_train_acc_n26=np.append(X_train_acc_n26,X_train_acc_n26_shift, axis=0)\n",
    "X_train_acc_n26=np.append(X_train_acc_n26,X_train_acc_n26_timewarp, axis=0)\n",
    "X_train_acc_n26=np.append(X_train_acc_n26,X_train_acc_n26_magwarp, axis=0)\n",
    "\n",
    "X_train_gy_n26=np.append(X_train_gy_n26,X_train_gy_n26_shift, axis=0)\n",
    "X_train_gy_n26=np.append(X_train_gy_n26,X_train_gy_n26_timewarp, axis=0)\n",
    "X_train_gy_n26=np.append(X_train_gy_n26,X_train_gy_n26_magwarp, axis=0)\n",
    "\n",
    "y_train_total = np.append(y_train_n26,y_train_n26,axis=0)\n",
    "y_train_total = np.append(y_train_total,y_train_n26,axis=0)\n",
    "y_train_total = np.append(y_train_total,y_train_n26,axis=0)"
   ]
  },
  {
   "cell_type": "code",
   "execution_count": null,
   "metadata": {
    "id": "KjBG0wXUHSHH"
   },
   "outputs": [],
   "source": [
    "X_train_acc=np.append(X_train_acc_n26,X_train_acc_26, axis=0)\n",
    "X_train_gy=np.append(X_train_gy_n26,X_train_gy_26, axis=0)\n",
    "y_train = np.append(y_train_total,y_train_26,axis=0)"
   ]
  },
  {
   "cell_type": "code",
   "execution_count": null,
   "metadata": {
    "id": "4SZubDcGhvtQ"
   },
   "outputs": [],
   "source": [
    "y_train = to_categorical(y_train)\n",
    "y_valid = to_categorical(y_valid['label'])"
   ]
  },
  {
   "cell_type": "code",
   "execution_count": null,
   "metadata": {
    "colab": {
     "base_uri": "https://localhost:8080/"
    },
    "executionInfo": {
     "elapsed": 5570,
     "status": "ok",
     "timestamp": 1615094157922,
     "user": {
      "displayName": "신동훈",
      "photoUrl": "",
      "userId": "05309578636363571738"
     },
     "user_tz": -540
    },
    "id": "dnvW8x-qfWcy",
    "outputId": "3229885d-6bd3-486b-a55c-28305f1e1b10"
   },
   "outputs": [
    {
     "data": {
      "text/plain": [
       "(6750, 600, 3)"
      ]
     },
     "execution_count": 18,
     "metadata": {
      "tags": []
     },
     "output_type": "execute_result"
    }
   ],
   "source": [
    "sequence_length=X_train_acc.shape[1]\n",
    "X_train_acc.shape"
   ]
  },
  {
   "cell_type": "code",
   "execution_count": null,
   "metadata": {
    "id": "Ie0jrbjvCOEn"
   },
   "outputs": [],
   "source": [
    "# Shuffle\n",
    "s = np.arange(X_train_acc.shape[0])\n",
    "np.random.shuffle(s)\n",
    "\n",
    "X_train_acc = X_train_acc[s]\n",
    "X_train_gy = X_train_gy[s]\n",
    "\n",
    "y_train = y_train[s]"
   ]
  },
  {
   "cell_type": "markdown",
   "metadata": {
    "id": "uoVI4GlYKkX2"
   },
   "source": [
    "# Modeling(CNN + LSTM)"
   ]
  },
  {
   "cell_type": "code",
   "execution_count": null,
   "metadata": {
    "id": "e9BMJkUprOjr"
   },
   "outputs": [],
   "source": [
    "# Attention Layer (과적합 발생으로 대회 미사용)\n",
    "def attention_3d_block(inputs):\n",
    "    input_dim = int(inputs.shape[2])\n",
    "    \n",
    "    a = tf.keras.layers.Permute((2, 1))(inputs)\n",
    "    a = tf.keras.layers.Dense(inputs.shape[1], activation='softmax')(a)\n",
    "    a_probs = Permute((2, 1))(a)\n",
    "    \n",
    "    output_attention_mul  = multiply([inputs, a_probs])\n",
    "    return output_attention_mul"
   ]
  },
  {
   "cell_type": "code",
   "execution_count": null,
   "metadata": {
    "colab": {
     "base_uri": "https://localhost:8080/"
    },
    "executionInfo": {
     "elapsed": 54218,
     "status": "ok",
     "timestamp": 1615094660361,
     "user": {
      "displayName": "신동훈",
      "photoUrl": "",
      "userId": "05309578636363571738"
     },
     "user_tz": -540
    },
    "id": "pVaVxLXxbTyH",
    "outputId": "cbadea38-1289-422b-84e1-bd6f8e7b6060"
   },
   "outputs": [
    {
     "name": "stdout",
     "output_type": "stream",
     "text": [
      "Model: \"model_14\"\n",
      "__________________________________________________________________________________________________\n",
      "Layer (type)                    Output Shape         Param #     Connected to                     \n",
      "==================================================================================================\n",
      "input_11 (InputLayer)           [(None, 600, 3)]     0                                            \n",
      "__________________________________________________________________________________________________\n",
      "input_12 (InputLayer)           [(None, 600, 3)]     0                                            \n",
      "__________________________________________________________________________________________________\n",
      "conv1d_28 (Conv1D)              (None, 599, 128)     896         input_11[0][0]                   \n",
      "__________________________________________________________________________________________________\n",
      "conv1d_31 (Conv1D)              (None, 599, 128)     896         input_12[0][0]                   \n",
      "__________________________________________________________________________________________________\n",
      "batch_normalization_28 (BatchNo (None, 599, 128)     512         conv1d_28[0][0]                  \n",
      "__________________________________________________________________________________________________\n",
      "batch_normalization_31 (BatchNo (None, 599, 128)     512         conv1d_31[0][0]                  \n",
      "__________________________________________________________________________________________________\n",
      "activation_28 (Activation)      (None, 599, 128)     0           batch_normalization_28[0][0]     \n",
      "__________________________________________________________________________________________________\n",
      "activation_31 (Activation)      (None, 599, 128)     0           batch_normalization_31[0][0]     \n",
      "__________________________________________________________________________________________________\n",
      "max_pooling1d_28 (MaxPooling1D) (None, 299, 128)     0           activation_28[0][0]              \n",
      "__________________________________________________________________________________________________\n",
      "max_pooling1d_31 (MaxPooling1D) (None, 299, 128)     0           activation_31[0][0]              \n",
      "__________________________________________________________________________________________________\n",
      "conv1d_29 (Conv1D)              (None, 298, 256)     65792       max_pooling1d_28[0][0]           \n",
      "__________________________________________________________________________________________________\n",
      "conv1d_32 (Conv1D)              (None, 298, 256)     65792       max_pooling1d_31[0][0]           \n",
      "__________________________________________________________________________________________________\n",
      "batch_normalization_29 (BatchNo (None, 298, 256)     1024        conv1d_29[0][0]                  \n",
      "__________________________________________________________________________________________________\n",
      "batch_normalization_32 (BatchNo (None, 298, 256)     1024        conv1d_32[0][0]                  \n",
      "__________________________________________________________________________________________________\n",
      "activation_29 (Activation)      (None, 298, 256)     0           batch_normalization_29[0][0]     \n",
      "__________________________________________________________________________________________________\n",
      "activation_32 (Activation)      (None, 298, 256)     0           batch_normalization_32[0][0]     \n",
      "__________________________________________________________________________________________________\n",
      "max_pooling1d_29 (MaxPooling1D) (None, 149, 256)     0           activation_29[0][0]              \n",
      "__________________________________________________________________________________________________\n",
      "max_pooling1d_32 (MaxPooling1D) (None, 149, 256)     0           activation_32[0][0]              \n",
      "__________________________________________________________________________________________________\n",
      "conv1d_30 (Conv1D)              (None, 148, 384)     196992      max_pooling1d_29[0][0]           \n",
      "__________________________________________________________________________________________________\n",
      "conv1d_33 (Conv1D)              (None, 148, 384)     196992      max_pooling1d_32[0][0]           \n",
      "__________________________________________________________________________________________________\n",
      "batch_normalization_30 (BatchNo (None, 148, 384)     1536        conv1d_30[0][0]                  \n",
      "__________________________________________________________________________________________________\n",
      "batch_normalization_33 (BatchNo (None, 148, 384)     1536        conv1d_33[0][0]                  \n",
      "__________________________________________________________________________________________________\n",
      "activation_30 (Activation)      (None, 148, 384)     0           batch_normalization_30[0][0]     \n",
      "__________________________________________________________________________________________________\n",
      "activation_33 (Activation)      (None, 148, 384)     0           batch_normalization_33[0][0]     \n",
      "__________________________________________________________________________________________________\n",
      "max_pooling1d_30 (MaxPooling1D) (None, 74, 384)      0           activation_30[0][0]              \n",
      "__________________________________________________________________________________________________\n",
      "max_pooling1d_33 (MaxPooling1D) (None, 74, 384)      0           activation_33[0][0]              \n",
      "__________________________________________________________________________________________________\n",
      "lstm_9 (LSTM)                   (None, 64)           114944      max_pooling1d_30[0][0]           \n",
      "__________________________________________________________________________________________________\n",
      "lstm_10 (LSTM)                  (None, 64)           114944      max_pooling1d_33[0][0]           \n",
      "__________________________________________________________________________________________________\n",
      "concatenate_4 (Concatenate)     (None, 128)          0           lstm_9[0][0]                     \n",
      "                                                                 lstm_10[0][0]                    \n",
      "__________________________________________________________________________________________________\n",
      "flatten_4 (Flatten)             (None, 128)          0           concatenate_4[0][0]              \n",
      "__________________________________________________________________________________________________\n",
      "dense_8 (Dense)                 (None, 61)           7869        flatten_4[0][0]                  \n",
      "==================================================================================================\n",
      "Total params: 771,261\n",
      "Trainable params: 768,189\n",
      "Non-trainable params: 3,072\n",
      "__________________________________________________________________________________________________\n",
      "Epoch 1/50\n",
      "53/53 [==============================] - 7s 53ms/step - loss: 3.1755 - acc: 0.2602 - val_loss: 2.6855 - val_acc: 0.2383\n",
      "\n",
      "Epoch 00001: val_loss improved from inf to 2.68550, saving model to best_model.h5\n",
      "Epoch 2/50\n",
      "53/53 [==============================] - 2s 38ms/step - loss: 1.9163 - acc: 0.5079 - val_loss: 2.5083 - val_acc: 0.2830\n",
      "\n",
      "Epoch 00002: val_loss improved from 2.68550 to 2.50833, saving model to best_model.h5\n",
      "Epoch 3/50\n",
      "53/53 [==============================] - 2s 39ms/step - loss: 1.5596 - acc: 0.5783 - val_loss: 2.0220 - val_acc: 0.4489\n",
      "\n",
      "Epoch 00003: val_loss improved from 2.50833 to 2.02203, saving model to best_model.h5\n",
      "Epoch 4/50\n",
      "53/53 [==============================] - 2s 39ms/step - loss: 1.3077 - acc: 0.6348 - val_loss: 1.8404 - val_acc: 0.4723\n",
      "\n",
      "Epoch 00004: val_loss improved from 2.02203 to 1.84045, saving model to best_model.h5\n",
      "Epoch 5/50\n",
      "53/53 [==============================] - 2s 39ms/step - loss: 1.1322 - acc: 0.6773 - val_loss: 1.2086 - val_acc: 0.6617\n",
      "\n",
      "Epoch 00005: val_loss improved from 1.84045 to 1.20864, saving model to best_model.h5\n",
      "Epoch 6/50\n",
      "53/53 [==============================] - 2s 39ms/step - loss: 1.0247 - acc: 0.7041 - val_loss: 0.9926 - val_acc: 0.7043\n",
      "\n",
      "Epoch 00006: val_loss improved from 1.20864 to 0.99259, saving model to best_model.h5\n",
      "Epoch 7/50\n",
      "53/53 [==============================] - 2s 39ms/step - loss: 0.9540 - acc: 0.7194 - val_loss: 0.9656 - val_acc: 0.7383\n",
      "\n",
      "Epoch 00007: val_loss improved from 0.99259 to 0.96562, saving model to best_model.h5\n",
      "Epoch 8/50\n",
      "53/53 [==============================] - 2s 38ms/step - loss: 0.8589 - acc: 0.7525 - val_loss: 0.8507 - val_acc: 0.7574\n",
      "\n",
      "Epoch 00008: val_loss improved from 0.96562 to 0.85068, saving model to best_model.h5\n",
      "Epoch 9/50\n",
      "53/53 [==============================] - 2s 39ms/step - loss: 0.7714 - acc: 0.7653 - val_loss: 0.7999 - val_acc: 0.7681\n",
      "\n",
      "Epoch 00009: val_loss improved from 0.85068 to 0.79994, saving model to best_model.h5\n",
      "Epoch 10/50\n",
      "53/53 [==============================] - 2s 39ms/step - loss: 0.7049 - acc: 0.7974 - val_loss: 0.7408 - val_acc: 0.7809\n",
      "\n",
      "Epoch 00010: val_loss improved from 0.79994 to 0.74083, saving model to best_model.h5\n",
      "Epoch 11/50\n",
      "53/53 [==============================] - 2s 39ms/step - loss: 0.6691 - acc: 0.8051 - val_loss: 0.7180 - val_acc: 0.7915\n",
      "\n",
      "Epoch 00011: val_loss improved from 0.74083 to 0.71797, saving model to best_model.h5\n",
      "Epoch 12/50\n",
      "53/53 [==============================] - 2s 39ms/step - loss: 0.6137 - acc: 0.8267 - val_loss: 0.7184 - val_acc: 0.7957\n",
      "\n",
      "Epoch 00012: val_loss did not improve from 0.71797\n",
      "Epoch 13/50\n",
      "53/53 [==============================] - 2s 39ms/step - loss: 0.5717 - acc: 0.8349 - val_loss: 0.6786 - val_acc: 0.7957\n",
      "\n",
      "Epoch 00013: val_loss improved from 0.71797 to 0.67861, saving model to best_model.h5\n",
      "Epoch 14/50\n",
      "53/53 [==============================] - 2s 38ms/step - loss: 0.5316 - acc: 0.8472 - val_loss: 0.7354 - val_acc: 0.7745\n",
      "\n",
      "Epoch 00014: val_loss did not improve from 0.67861\n",
      "Epoch 15/50\n",
      "53/53 [==============================] - 2s 38ms/step - loss: 0.4857 - acc: 0.8565 - val_loss: 0.7412 - val_acc: 0.7638\n",
      "\n",
      "Epoch 00015: val_loss did not improve from 0.67861\n",
      "Epoch 16/50\n",
      "53/53 [==============================] - 2s 38ms/step - loss: 0.4716 - acc: 0.8587 - val_loss: 0.6753 - val_acc: 0.8021\n",
      "\n",
      "Epoch 00016: val_loss improved from 0.67861 to 0.67530, saving model to best_model.h5\n",
      "Epoch 17/50\n",
      "53/53 [==============================] - 2s 39ms/step - loss: 0.4416 - acc: 0.8688 - val_loss: 0.7018 - val_acc: 0.8043\n",
      "\n",
      "Epoch 00017: val_loss did not improve from 0.67530\n",
      "Epoch 18/50\n",
      "53/53 [==============================] - 2s 38ms/step - loss: 0.3969 - acc: 0.8869 - val_loss: 0.6432 - val_acc: 0.8043\n",
      "\n",
      "Epoch 00018: val_loss improved from 0.67530 to 0.64320, saving model to best_model.h5\n",
      "Epoch 19/50\n",
      "53/53 [==============================] - 2s 38ms/step - loss: 0.3864 - acc: 0.8899 - val_loss: 0.6784 - val_acc: 0.7872\n",
      "\n",
      "Epoch 00019: val_loss did not improve from 0.64320\n",
      "Epoch 20/50\n",
      "53/53 [==============================] - 2s 39ms/step - loss: 0.3537 - acc: 0.9016 - val_loss: 0.6787 - val_acc: 0.7979\n",
      "\n",
      "Epoch 00020: val_loss did not improve from 0.64320\n",
      "Epoch 21/50\n",
      "53/53 [==============================] - 2s 38ms/step - loss: 0.3365 - acc: 0.9037 - val_loss: 0.6891 - val_acc: 0.7894\n",
      "\n",
      "Epoch 00021: val_loss did not improve from 0.64320\n",
      "Epoch 22/50\n",
      "53/53 [==============================] - 2s 39ms/step - loss: 0.3450 - acc: 0.8999 - val_loss: 0.7295 - val_acc: 0.7638\n",
      "\n",
      "Epoch 00022: val_loss did not improve from 0.64320\n",
      "Epoch 23/50\n",
      "53/53 [==============================] - 2s 38ms/step - loss: 0.3091 - acc: 0.9122 - val_loss: 0.6597 - val_acc: 0.8021\n",
      "\n",
      "Epoch 00023: val_loss did not improve from 0.64320\n",
      "Epoch 00023: early stopping\n"
     ]
    }
   ],
   "source": [
    "num=128\n",
    "kernel_size=2\n",
    "strides_size=1\n",
    "model_1_input = Input(shape=(sequence_length,3))\n",
    "model_1 = Conv1D(num,kernel_size,strides_size,activation=None)(model_1_input)\n",
    "model_1 = BatchNormalization(gamma_initializer='ones')(model_1)\n",
    "model_1 = Activation('relu')(model_1)\n",
    "model_1 = MaxPooling1D(2)(model_1)\n",
    "model_1 = Conv1D(2*num,kernel_size,strides_size,activation=None)(model_1)\n",
    "model_1 = BatchNormalization(gamma_initializer='ones')(model_1)\n",
    "model_1 = Activation('relu')(model_1)\n",
    "model_1 = MaxPooling1D(2)(model_1)\n",
    "model_1 = Conv1D(3*num,kernel_size,strides_size,activation=None)(model_1)\n",
    "model_1 = BatchNormalization(gamma_initializer='ones')(model_1)\n",
    "model_1 = Activation('relu')(model_1)\n",
    "model_1 = MaxPooling1D(2)(model_1)\n",
    "model_1 = LSTM(int(num/2))(model_1)\n",
    "model_1 = Model(inputs=model_1_input, outputs = model_1)\n",
    "\n",
    "model_2_input = Input(shape=(sequence_length,3))\n",
    "model_2 = Conv1D(num,kernel_size,strides_size,activation=None)(model_2_input)\n",
    "model_2 = BatchNormalization(gamma_initializer='ones')(model_2)\n",
    "model_2 = Activation('relu')(model_2)\n",
    "model_2 = MaxPooling1D(2)(model_2)\n",
    "model_2 = Conv1D(2*num,kernel_size,strides_size,activation=None)(model_2)\n",
    "model_2 = BatchNormalization(gamma_initializer='ones')(model_2)\n",
    "model_2 = Activation('relu')(model_2)\n",
    "model_2 = MaxPooling1D(2)(model_2)\n",
    "model_2 = Conv1D(3*num,kernel_size,strides_size,activation=None)(model_2)\n",
    "model_2 = BatchNormalization(gamma_initializer='ones')(model_2)\n",
    "model_2 = Activation('relu')(model_2)\n",
    "model_2 = MaxPooling1D(2)(model_2)\n",
    "model_2 = LSTM(int(num/2))(model_2)\n",
    "model_2 = Model(inputs=model_2_input, outputs = model_2)\n",
    "\n",
    "combinedInput = concatenate([model_1.output, model_2.output])\n",
    "x = Flatten()(combinedInput)\n",
    "x = Dense(61, activation=\"softmax\")(x)\n",
    "final_model = Model(inputs=[model_1.input, model_2.input], outputs=x)\n",
    "final_model.summary()\n",
    "final_model.compile(loss='categorical_crossentropy', optimizer='Adam', metrics=['acc'])\n",
    "es = EarlyStopping(monitor='val_loss', mode='min', verbose=1, patience=5)\n",
    "mc = ModelCheckpoint('best_model.h5', monitor='val_loss', mode='min', verbose=1, save_best_only=True)\n",
    "history = final_model.fit(x=[X_train_acc,X_train_gy], y=y_train, epochs=50, callbacks=[es, mc],\n",
    "                          validation_data=([X_valid_acc, X_valid_gy], y_valid), batch_size=128)"
   ]
  },
  {
   "cell_type": "code",
   "execution_count": null,
   "metadata": {
    "id": "TkETXvuAR8M9"
   },
   "outputs": [],
   "source": [
    "# Prediction 및 Submission 파일 생성\n",
    "final_model.load_weights('/content/best_model.h5')\n",
    "y_pred=final_model.predict([X_test_acc,X_test_gy])\n",
    "submission.loc[:,1:]=y_pred\n",
    "submission.to_csv('submission.csv',index=False)"
   ]
  }
 ],
 "metadata": {
  "accelerator": "GPU",
  "colab": {
   "authorship_tag": "ABX9TyN6T49JQ4e9QDKTjLo5M887",
   "collapsed_sections": [],
   "machine_shape": "hm",
   "mount_file_id": "1Def72zKtUbEwWcdlCiUUUwP4dU7I1q5_",
   "name": "movements_classification.ipynb",
   "provenance": [],
   "toc_visible": true
  },
  "kernelspec": {
   "display_name": "Python 3",
   "language": "python",
   "name": "python3"
  },
  "language_info": {
   "codemirror_mode": {
    "name": "ipython",
    "version": 3
   },
   "file_extension": ".py",
   "mimetype": "text/x-python",
   "name": "python",
   "nbconvert_exporter": "python",
   "pygments_lexer": "ipython3",
   "version": "3.8.3"
  },
  "widgets": {
   "application/vnd.jupyter.widget-state+json": {
    "074b037c8af541818aa4ce03fa4215f9": {
     "model_module": "@jupyter-widgets/base",
     "model_name": "LayoutModel",
     "state": {
      "_model_module": "@jupyter-widgets/base",
      "_model_module_version": "1.2.0",
      "_model_name": "LayoutModel",
      "_view_count": null,
      "_view_module": "@jupyter-widgets/base",
      "_view_module_version": "1.2.0",
      "_view_name": "LayoutView",
      "align_content": null,
      "align_items": null,
      "align_self": null,
      "border": null,
      "bottom": null,
      "display": null,
      "flex": null,
      "flex_flow": null,
      "grid_area": null,
      "grid_auto_columns": null,
      "grid_auto_flow": null,
      "grid_auto_rows": null,
      "grid_column": null,
      "grid_gap": null,
      "grid_row": null,
      "grid_template_areas": null,
      "grid_template_columns": null,
      "grid_template_rows": null,
      "height": null,
      "justify_content": null,
      "justify_items": null,
      "left": null,
      "margin": null,
      "max_height": null,
      "max_width": null,
      "min_height": null,
      "min_width": null,
      "object_fit": null,
      "object_position": null,
      "order": null,
      "overflow": null,
      "overflow_x": null,
      "overflow_y": null,
      "padding": null,
      "right": null,
      "top": null,
      "visibility": null,
      "width": null
     }
    },
    "0b070cb5cea243acb5326c36c2ccdaca": {
     "model_module": "@jupyter-widgets/controls",
     "model_name": "HTMLModel",
     "state": {
      "_dom_classes": [],
      "_model_module": "@jupyter-widgets/controls",
      "_model_module_version": "1.5.0",
      "_model_name": "HTMLModel",
      "_view_count": null,
      "_view_module": "@jupyter-widgets/controls",
      "_view_module_version": "1.5.0",
      "_view_name": "HTMLView",
      "description": "",
      "description_tooltip": null,
      "layout": "IPY_MODEL_25810d2861ae4210a89c203ade565972",
      "placeholder": "​",
      "style": "IPY_MODEL_f2515a594d374024baa671812b36bb8a",
      "value": " 782/782 [00:03&lt;00:00, 213.85it/s]"
     }
    },
    "0bfbc2e0e8244a2a963d1dd02376630d": {
     "model_module": "@jupyter-widgets/controls",
     "model_name": "ProgressStyleModel",
     "state": {
      "_model_module": "@jupyter-widgets/controls",
      "_model_module_version": "1.5.0",
      "_model_name": "ProgressStyleModel",
      "_view_count": null,
      "_view_module": "@jupyter-widgets/base",
      "_view_module_version": "1.2.0",
      "_view_name": "StyleView",
      "bar_color": null,
      "description_width": "initial"
     }
    },
    "0f7eed026d124e92bb6c8b91030a0bb1": {
     "model_module": "@jupyter-widgets/base",
     "model_name": "LayoutModel",
     "state": {
      "_model_module": "@jupyter-widgets/base",
      "_model_module_version": "1.2.0",
      "_model_name": "LayoutModel",
      "_view_count": null,
      "_view_module": "@jupyter-widgets/base",
      "_view_module_version": "1.2.0",
      "_view_name": "LayoutView",
      "align_content": null,
      "align_items": null,
      "align_self": null,
      "border": null,
      "bottom": null,
      "display": null,
      "flex": null,
      "flex_flow": null,
      "grid_area": null,
      "grid_auto_columns": null,
      "grid_auto_flow": null,
      "grid_auto_rows": null,
      "grid_column": null,
      "grid_gap": null,
      "grid_row": null,
      "grid_template_areas": null,
      "grid_template_columns": null,
      "grid_template_rows": null,
      "height": null,
      "justify_content": null,
      "justify_items": null,
      "left": null,
      "margin": null,
      "max_height": null,
      "max_width": null,
      "min_height": null,
      "min_width": null,
      "object_fit": null,
      "object_position": null,
      "order": null,
      "overflow": null,
      "overflow_x": null,
      "overflow_y": null,
      "padding": null,
      "right": null,
      "top": null,
      "visibility": null,
      "width": null
     }
    },
    "0fd90553adde492bb596266689cdcd3e": {
     "model_module": "@jupyter-widgets/base",
     "model_name": "LayoutModel",
     "state": {
      "_model_module": "@jupyter-widgets/base",
      "_model_module_version": "1.2.0",
      "_model_name": "LayoutModel",
      "_view_count": null,
      "_view_module": "@jupyter-widgets/base",
      "_view_module_version": "1.2.0",
      "_view_name": "LayoutView",
      "align_content": null,
      "align_items": null,
      "align_self": null,
      "border": null,
      "bottom": null,
      "display": null,
      "flex": null,
      "flex_flow": null,
      "grid_area": null,
      "grid_auto_columns": null,
      "grid_auto_flow": null,
      "grid_auto_rows": null,
      "grid_column": null,
      "grid_gap": null,
      "grid_row": null,
      "grid_template_areas": null,
      "grid_template_columns": null,
      "grid_template_rows": null,
      "height": null,
      "justify_content": null,
      "justify_items": null,
      "left": null,
      "margin": null,
      "max_height": null,
      "max_width": null,
      "min_height": null,
      "min_width": null,
      "object_fit": null,
      "object_position": null,
      "order": null,
      "overflow": null,
      "overflow_x": null,
      "overflow_y": null,
      "padding": null,
      "right": null,
      "top": null,
      "visibility": null,
      "width": null
     }
    },
    "132d9c1b29dc40adb93967449050913e": {
     "model_module": "@jupyter-widgets/controls",
     "model_name": "FloatProgressModel",
     "state": {
      "_dom_classes": [],
      "_model_module": "@jupyter-widgets/controls",
      "_model_module_version": "1.5.0",
      "_model_name": "FloatProgressModel",
      "_view_count": null,
      "_view_module": "@jupyter-widgets/controls",
      "_view_module_version": "1.5.0",
      "_view_name": "ProgressView",
      "bar_style": "success",
      "description": "100%",
      "description_tooltip": null,
      "layout": "IPY_MODEL_c562abc668594bcf8c26e0577a9507d6",
      "max": 782,
      "min": 0,
      "orientation": "horizontal",
      "style": "IPY_MODEL_255be6d7f16d404b971ea1ec0f91ae7b",
      "value": 782
     }
    },
    "158beb542a97469781471582c4ec0423": {
     "model_module": "@jupyter-widgets/base",
     "model_name": "LayoutModel",
     "state": {
      "_model_module": "@jupyter-widgets/base",
      "_model_module_version": "1.2.0",
      "_model_name": "LayoutModel",
      "_view_count": null,
      "_view_module": "@jupyter-widgets/base",
      "_view_module_version": "1.2.0",
      "_view_name": "LayoutView",
      "align_content": null,
      "align_items": null,
      "align_self": null,
      "border": null,
      "bottom": null,
      "display": null,
      "flex": null,
      "flex_flow": null,
      "grid_area": null,
      "grid_auto_columns": null,
      "grid_auto_flow": null,
      "grid_auto_rows": null,
      "grid_column": null,
      "grid_gap": null,
      "grid_row": null,
      "grid_template_areas": null,
      "grid_template_columns": null,
      "grid_template_rows": null,
      "height": null,
      "justify_content": null,
      "justify_items": null,
      "left": null,
      "margin": null,
      "max_height": null,
      "max_width": null,
      "min_height": null,
      "min_width": null,
      "object_fit": null,
      "object_position": null,
      "order": null,
      "overflow": null,
      "overflow_x": null,
      "overflow_y": null,
      "padding": null,
      "right": null,
      "top": null,
      "visibility": null,
      "width": null
     }
    },
    "24a2afc1b4bc4e409b01503bce298571": {
     "model_module": "@jupyter-widgets/controls",
     "model_name": "DescriptionStyleModel",
     "state": {
      "_model_module": "@jupyter-widgets/controls",
      "_model_module_version": "1.5.0",
      "_model_name": "DescriptionStyleModel",
      "_view_count": null,
      "_view_module": "@jupyter-widgets/base",
      "_view_module_version": "1.2.0",
      "_view_name": "StyleView",
      "description_width": ""
     }
    },
    "255be6d7f16d404b971ea1ec0f91ae7b": {
     "model_module": "@jupyter-widgets/controls",
     "model_name": "ProgressStyleModel",
     "state": {
      "_model_module": "@jupyter-widgets/controls",
      "_model_module_version": "1.5.0",
      "_model_name": "ProgressStyleModel",
      "_view_count": null,
      "_view_module": "@jupyter-widgets/base",
      "_view_module_version": "1.2.0",
      "_view_name": "StyleView",
      "bar_color": null,
      "description_width": "initial"
     }
    },
    "25810d2861ae4210a89c203ade565972": {
     "model_module": "@jupyter-widgets/base",
     "model_name": "LayoutModel",
     "state": {
      "_model_module": "@jupyter-widgets/base",
      "_model_module_version": "1.2.0",
      "_model_name": "LayoutModel",
      "_view_count": null,
      "_view_module": "@jupyter-widgets/base",
      "_view_module_version": "1.2.0",
      "_view_name": "LayoutView",
      "align_content": null,
      "align_items": null,
      "align_self": null,
      "border": null,
      "bottom": null,
      "display": null,
      "flex": null,
      "flex_flow": null,
      "grid_area": null,
      "grid_auto_columns": null,
      "grid_auto_flow": null,
      "grid_auto_rows": null,
      "grid_column": null,
      "grid_gap": null,
      "grid_row": null,
      "grid_template_areas": null,
      "grid_template_columns": null,
      "grid_template_rows": null,
      "height": null,
      "justify_content": null,
      "justify_items": null,
      "left": null,
      "margin": null,
      "max_height": null,
      "max_width": null,
      "min_height": null,
      "min_width": null,
      "object_fit": null,
      "object_position": null,
      "order": null,
      "overflow": null,
      "overflow_x": null,
      "overflow_y": null,
      "padding": null,
      "right": null,
      "top": null,
      "visibility": null,
      "width": null
     }
    },
    "275459b36a524097a353c4f680b4e73c": {
     "model_module": "@jupyter-widgets/controls",
     "model_name": "HBoxModel",
     "state": {
      "_dom_classes": [],
      "_model_module": "@jupyter-widgets/controls",
      "_model_module_version": "1.5.0",
      "_model_name": "HBoxModel",
      "_view_count": null,
      "_view_module": "@jupyter-widgets/controls",
      "_view_module_version": "1.5.0",
      "_view_name": "HBoxView",
      "box_style": "",
      "children": [
       "IPY_MODEL_83b538420ed14df786aca26d888b98dd",
       "IPY_MODEL_fbc10c1693a24c3f8d806b9c496d69c8"
      ],
      "layout": "IPY_MODEL_8a5a41a90a61442a85e8a941bd94839d"
     }
    },
    "2d03a20203e94c3b87e1cad948a6fcd1": {
     "model_module": "@jupyter-widgets/controls",
     "model_name": "FloatProgressModel",
     "state": {
      "_dom_classes": [],
      "_model_module": "@jupyter-widgets/controls",
      "_model_module_version": "1.5.0",
      "_model_name": "FloatProgressModel",
      "_view_count": null,
      "_view_module": "@jupyter-widgets/controls",
      "_view_module_version": "1.5.0",
      "_view_name": "ProgressView",
      "bar_style": "success",
      "description": "100%",
      "description_tooltip": null,
      "layout": "IPY_MODEL_0fd90553adde492bb596266689cdcd3e",
      "max": 470,
      "min": 0,
      "orientation": "horizontal",
      "style": "IPY_MODEL_ac4f7417a4574bfd868fa5addc523aa6",
      "value": 470
     }
    },
    "2d6fe60ac558494c8ef6ceb53042802d": {
     "model_module": "@jupyter-widgets/controls",
     "model_name": "HTMLModel",
     "state": {
      "_dom_classes": [],
      "_model_module": "@jupyter-widgets/controls",
      "_model_module_version": "1.5.0",
      "_model_name": "HTMLModel",
      "_view_count": null,
      "_view_module": "@jupyter-widgets/controls",
      "_view_module_version": "1.5.0",
      "_view_name": "HTMLView",
      "description": "",
      "description_tooltip": null,
      "layout": "IPY_MODEL_c719dc6e69e344a3be40db189d8c3f3a",
      "placeholder": "​",
      "style": "IPY_MODEL_24a2afc1b4bc4e409b01503bce298571",
      "value": " 470/470 [00:04&lt;00:00, 94.53it/s]"
     }
    },
    "3de06240e2ed4f47a6a7fda4c82feb1c": {
     "model_module": "@jupyter-widgets/controls",
     "model_name": "FloatProgressModel",
     "state": {
      "_dom_classes": [],
      "_model_module": "@jupyter-widgets/controls",
      "_model_module_version": "1.5.0",
      "_model_name": "FloatProgressModel",
      "_view_count": null,
      "_view_module": "@jupyter-widgets/controls",
      "_view_module_version": "1.5.0",
      "_view_name": "ProgressView",
      "bar_style": "success",
      "description": "100%",
      "description_tooltip": null,
      "layout": "IPY_MODEL_711b8fc6a010475f90ad7ac49b315de6",
      "max": 1365,
      "min": 0,
      "orientation": "horizontal",
      "style": "IPY_MODEL_5291cb5edee14a2db28ac2cc517f930f",
      "value": 1365
     }
    },
    "4ad2dc2bd1d6446db50611c9e7ea290b": {
     "model_module": "@jupyter-widgets/base",
     "model_name": "LayoutModel",
     "state": {
      "_model_module": "@jupyter-widgets/base",
      "_model_module_version": "1.2.0",
      "_model_name": "LayoutModel",
      "_view_count": null,
      "_view_module": "@jupyter-widgets/base",
      "_view_module_version": "1.2.0",
      "_view_name": "LayoutView",
      "align_content": null,
      "align_items": null,
      "align_self": null,
      "border": null,
      "bottom": null,
      "display": null,
      "flex": null,
      "flex_flow": null,
      "grid_area": null,
      "grid_auto_columns": null,
      "grid_auto_flow": null,
      "grid_auto_rows": null,
      "grid_column": null,
      "grid_gap": null,
      "grid_row": null,
      "grid_template_areas": null,
      "grid_template_columns": null,
      "grid_template_rows": null,
      "height": null,
      "justify_content": null,
      "justify_items": null,
      "left": null,
      "margin": null,
      "max_height": null,
      "max_width": null,
      "min_height": null,
      "min_width": null,
      "object_fit": null,
      "object_position": null,
      "order": null,
      "overflow": null,
      "overflow_x": null,
      "overflow_y": null,
      "padding": null,
      "right": null,
      "top": null,
      "visibility": null,
      "width": null
     }
    },
    "4b43eea2169f4a638b613b7fc8293e69": {
     "model_module": "@jupyter-widgets/base",
     "model_name": "LayoutModel",
     "state": {
      "_model_module": "@jupyter-widgets/base",
      "_model_module_version": "1.2.0",
      "_model_name": "LayoutModel",
      "_view_count": null,
      "_view_module": "@jupyter-widgets/base",
      "_view_module_version": "1.2.0",
      "_view_name": "LayoutView",
      "align_content": null,
      "align_items": null,
      "align_self": null,
      "border": null,
      "bottom": null,
      "display": null,
      "flex": null,
      "flex_flow": null,
      "grid_area": null,
      "grid_auto_columns": null,
      "grid_auto_flow": null,
      "grid_auto_rows": null,
      "grid_column": null,
      "grid_gap": null,
      "grid_row": null,
      "grid_template_areas": null,
      "grid_template_columns": null,
      "grid_template_rows": null,
      "height": null,
      "justify_content": null,
      "justify_items": null,
      "left": null,
      "margin": null,
      "max_height": null,
      "max_width": null,
      "min_height": null,
      "min_width": null,
      "object_fit": null,
      "object_position": null,
      "order": null,
      "overflow": null,
      "overflow_x": null,
      "overflow_y": null,
      "padding": null,
      "right": null,
      "top": null,
      "visibility": null,
      "width": null
     }
    },
    "4d2d088090dd4559819af3e335797633": {
     "model_module": "@jupyter-widgets/base",
     "model_name": "LayoutModel",
     "state": {
      "_model_module": "@jupyter-widgets/base",
      "_model_module_version": "1.2.0",
      "_model_name": "LayoutModel",
      "_view_count": null,
      "_view_module": "@jupyter-widgets/base",
      "_view_module_version": "1.2.0",
      "_view_name": "LayoutView",
      "align_content": null,
      "align_items": null,
      "align_self": null,
      "border": null,
      "bottom": null,
      "display": null,
      "flex": null,
      "flex_flow": null,
      "grid_area": null,
      "grid_auto_columns": null,
      "grid_auto_flow": null,
      "grid_auto_rows": null,
      "grid_column": null,
      "grid_gap": null,
      "grid_row": null,
      "grid_template_areas": null,
      "grid_template_columns": null,
      "grid_template_rows": null,
      "height": null,
      "justify_content": null,
      "justify_items": null,
      "left": null,
      "margin": null,
      "max_height": null,
      "max_width": null,
      "min_height": null,
      "min_width": null,
      "object_fit": null,
      "object_position": null,
      "order": null,
      "overflow": null,
      "overflow_x": null,
      "overflow_y": null,
      "padding": null,
      "right": null,
      "top": null,
      "visibility": null,
      "width": null
     }
    },
    "5291cb5edee14a2db28ac2cc517f930f": {
     "model_module": "@jupyter-widgets/controls",
     "model_name": "ProgressStyleModel",
     "state": {
      "_model_module": "@jupyter-widgets/controls",
      "_model_module_version": "1.5.0",
      "_model_name": "ProgressStyleModel",
      "_view_count": null,
      "_view_module": "@jupyter-widgets/base",
      "_view_module_version": "1.2.0",
      "_view_name": "StyleView",
      "bar_color": null,
      "description_width": "initial"
     }
    },
    "6a901692273e43588617f8f7ea3e40f2": {
     "model_module": "@jupyter-widgets/base",
     "model_name": "LayoutModel",
     "state": {
      "_model_module": "@jupyter-widgets/base",
      "_model_module_version": "1.2.0",
      "_model_name": "LayoutModel",
      "_view_count": null,
      "_view_module": "@jupyter-widgets/base",
      "_view_module_version": "1.2.0",
      "_view_name": "LayoutView",
      "align_content": null,
      "align_items": null,
      "align_self": null,
      "border": null,
      "bottom": null,
      "display": null,
      "flex": null,
      "flex_flow": null,
      "grid_area": null,
      "grid_auto_columns": null,
      "grid_auto_flow": null,
      "grid_auto_rows": null,
      "grid_column": null,
      "grid_gap": null,
      "grid_row": null,
      "grid_template_areas": null,
      "grid_template_columns": null,
      "grid_template_rows": null,
      "height": null,
      "justify_content": null,
      "justify_items": null,
      "left": null,
      "margin": null,
      "max_height": null,
      "max_width": null,
      "min_height": null,
      "min_width": null,
      "object_fit": null,
      "object_position": null,
      "order": null,
      "overflow": null,
      "overflow_x": null,
      "overflow_y": null,
      "padding": null,
      "right": null,
      "top": null,
      "visibility": null,
      "width": null
     }
    },
    "6af7a8da2c344a7c9dd60fe04822b63d": {
     "model_module": "@jupyter-widgets/base",
     "model_name": "LayoutModel",
     "state": {
      "_model_module": "@jupyter-widgets/base",
      "_model_module_version": "1.2.0",
      "_model_name": "LayoutModel",
      "_view_count": null,
      "_view_module": "@jupyter-widgets/base",
      "_view_module_version": "1.2.0",
      "_view_name": "LayoutView",
      "align_content": null,
      "align_items": null,
      "align_self": null,
      "border": null,
      "bottom": null,
      "display": null,
      "flex": null,
      "flex_flow": null,
      "grid_area": null,
      "grid_auto_columns": null,
      "grid_auto_flow": null,
      "grid_auto_rows": null,
      "grid_column": null,
      "grid_gap": null,
      "grid_row": null,
      "grid_template_areas": null,
      "grid_template_columns": null,
      "grid_template_rows": null,
      "height": null,
      "justify_content": null,
      "justify_items": null,
      "left": null,
      "margin": null,
      "max_height": null,
      "max_width": null,
      "min_height": null,
      "min_width": null,
      "object_fit": null,
      "object_position": null,
      "order": null,
      "overflow": null,
      "overflow_x": null,
      "overflow_y": null,
      "padding": null,
      "right": null,
      "top": null,
      "visibility": null,
      "width": null
     }
    },
    "70d96d9515264df4a59a16f0cf13f23f": {
     "model_module": "@jupyter-widgets/base",
     "model_name": "LayoutModel",
     "state": {
      "_model_module": "@jupyter-widgets/base",
      "_model_module_version": "1.2.0",
      "_model_name": "LayoutModel",
      "_view_count": null,
      "_view_module": "@jupyter-widgets/base",
      "_view_module_version": "1.2.0",
      "_view_name": "LayoutView",
      "align_content": null,
      "align_items": null,
      "align_self": null,
      "border": null,
      "bottom": null,
      "display": null,
      "flex": null,
      "flex_flow": null,
      "grid_area": null,
      "grid_auto_columns": null,
      "grid_auto_flow": null,
      "grid_auto_rows": null,
      "grid_column": null,
      "grid_gap": null,
      "grid_row": null,
      "grid_template_areas": null,
      "grid_template_columns": null,
      "grid_template_rows": null,
      "height": null,
      "justify_content": null,
      "justify_items": null,
      "left": null,
      "margin": null,
      "max_height": null,
      "max_width": null,
      "min_height": null,
      "min_width": null,
      "object_fit": null,
      "object_position": null,
      "order": null,
      "overflow": null,
      "overflow_x": null,
      "overflow_y": null,
      "padding": null,
      "right": null,
      "top": null,
      "visibility": null,
      "width": null
     }
    },
    "711b8fc6a010475f90ad7ac49b315de6": {
     "model_module": "@jupyter-widgets/base",
     "model_name": "LayoutModel",
     "state": {
      "_model_module": "@jupyter-widgets/base",
      "_model_module_version": "1.2.0",
      "_model_name": "LayoutModel",
      "_view_count": null,
      "_view_module": "@jupyter-widgets/base",
      "_view_module_version": "1.2.0",
      "_view_name": "LayoutView",
      "align_content": null,
      "align_items": null,
      "align_self": null,
      "border": null,
      "bottom": null,
      "display": null,
      "flex": null,
      "flex_flow": null,
      "grid_area": null,
      "grid_auto_columns": null,
      "grid_auto_flow": null,
      "grid_auto_rows": null,
      "grid_column": null,
      "grid_gap": null,
      "grid_row": null,
      "grid_template_areas": null,
      "grid_template_columns": null,
      "grid_template_rows": null,
      "height": null,
      "justify_content": null,
      "justify_items": null,
      "left": null,
      "margin": null,
      "max_height": null,
      "max_width": null,
      "min_height": null,
      "min_width": null,
      "object_fit": null,
      "object_position": null,
      "order": null,
      "overflow": null,
      "overflow_x": null,
      "overflow_y": null,
      "padding": null,
      "right": null,
      "top": null,
      "visibility": null,
      "width": null
     }
    },
    "74c7a00e0ba3427a93a6a96e7babdcd7": {
     "model_module": "@jupyter-widgets/controls",
     "model_name": "HTMLModel",
     "state": {
      "_dom_classes": [],
      "_model_module": "@jupyter-widgets/controls",
      "_model_module_version": "1.5.0",
      "_model_name": "HTMLModel",
      "_view_count": null,
      "_view_module": "@jupyter-widgets/controls",
      "_view_module_version": "1.5.0",
      "_view_name": "HTMLView",
      "description": "",
      "description_tooltip": null,
      "layout": "IPY_MODEL_4d2d088090dd4559819af3e335797633",
      "placeholder": "​",
      "style": "IPY_MODEL_e6216dd9651a4c768f65c63575aaf60a",
      "value": " 1365/1365 [00:12&lt;00:00, 112.88it/s]"
     }
    },
    "7886f73c38b44113a7a90288ebb33221": {
     "model_module": "@jupyter-widgets/controls",
     "model_name": "HTMLModel",
     "state": {
      "_dom_classes": [],
      "_model_module": "@jupyter-widgets/controls",
      "_model_module_version": "1.5.0",
      "_model_name": "HTMLModel",
      "_view_count": null,
      "_view_module": "@jupyter-widgets/controls",
      "_view_module_version": "1.5.0",
      "_view_name": "HTMLView",
      "description": "",
      "description_tooltip": null,
      "layout": "IPY_MODEL_6af7a8da2c344a7c9dd60fe04822b63d",
      "placeholder": "​",
      "style": "IPY_MODEL_f531a87d50ef4096b6df447bb986c126",
      "value": " 470/470 [00:08&lt;00:00, 55.82it/s]"
     }
    },
    "79306bc95b114924b608479e5cb93701": {
     "model_module": "@jupyter-widgets/controls",
     "model_name": "HBoxModel",
     "state": {
      "_dom_classes": [],
      "_model_module": "@jupyter-widgets/controls",
      "_model_module_version": "1.5.0",
      "_model_name": "HBoxModel",
      "_view_count": null,
      "_view_module": "@jupyter-widgets/controls",
      "_view_module_version": "1.5.0",
      "_view_name": "HBoxView",
      "box_style": "",
      "children": [
       "IPY_MODEL_3de06240e2ed4f47a6a7fda4c82feb1c",
       "IPY_MODEL_74c7a00e0ba3427a93a6a96e7babdcd7"
      ],
      "layout": "IPY_MODEL_4ad2dc2bd1d6446db50611c9e7ea290b"
     }
    },
    "7cb1204fc09d4f20b6250d68a76da8ed": {
     "model_module": "@jupyter-widgets/controls",
     "model_name": "HBoxModel",
     "state": {
      "_dom_classes": [],
      "_model_module": "@jupyter-widgets/controls",
      "_model_module_version": "1.5.0",
      "_model_name": "HBoxModel",
      "_view_count": null,
      "_view_module": "@jupyter-widgets/controls",
      "_view_module_version": "1.5.0",
      "_view_name": "HBoxView",
      "box_style": "",
      "children": [
       "IPY_MODEL_a70a15cfbf8947c69029f9324770d8b9",
       "IPY_MODEL_875a9a0faaa849d4a6f44f11108d19cc"
      ],
      "layout": "IPY_MODEL_0f7eed026d124e92bb6c8b91030a0bb1"
     }
    },
    "7fedcde9c2ce410a8fdebe275b031b96": {
     "model_module": "@jupyter-widgets/controls",
     "model_name": "HBoxModel",
     "state": {
      "_dom_classes": [],
      "_model_module": "@jupyter-widgets/controls",
      "_model_module_version": "1.5.0",
      "_model_name": "HBoxModel",
      "_view_count": null,
      "_view_module": "@jupyter-widgets/controls",
      "_view_module_version": "1.5.0",
      "_view_name": "HBoxView",
      "box_style": "",
      "children": [
       "IPY_MODEL_132d9c1b29dc40adb93967449050913e",
       "IPY_MODEL_0b070cb5cea243acb5326c36c2ccdaca"
      ],
      "layout": "IPY_MODEL_6a901692273e43588617f8f7ea3e40f2"
     }
    },
    "83b538420ed14df786aca26d888b98dd": {
     "model_module": "@jupyter-widgets/controls",
     "model_name": "FloatProgressModel",
     "state": {
      "_dom_classes": [],
      "_model_module": "@jupyter-widgets/controls",
      "_model_module_version": "1.5.0",
      "_model_name": "FloatProgressModel",
      "_view_count": null,
      "_view_module": "@jupyter-widgets/controls",
      "_view_module_version": "1.5.0",
      "_view_name": "ProgressView",
      "bar_style": "success",
      "description": "100%",
      "description_tooltip": null,
      "layout": "IPY_MODEL_074b037c8af541818aa4ce03fa4215f9",
      "max": 1290,
      "min": 0,
      "orientation": "horizontal",
      "style": "IPY_MODEL_f562dd2fa8c84c8ebfc11b5ede94f762",
      "value": 1290
     }
    },
    "875a9a0faaa849d4a6f44f11108d19cc": {
     "model_module": "@jupyter-widgets/controls",
     "model_name": "HTMLModel",
     "state": {
      "_dom_classes": [],
      "_model_module": "@jupyter-widgets/controls",
      "_model_module_version": "1.5.0",
      "_model_name": "HTMLModel",
      "_view_count": null,
      "_view_module": "@jupyter-widgets/controls",
      "_view_module_version": "1.5.0",
      "_view_name": "HTMLView",
      "description": "",
      "description_tooltip": null,
      "layout": "IPY_MODEL_e2278f2c2217423ea3991a8c37c4fb78",
      "placeholder": "​",
      "style": "IPY_MODEL_a655d61f6d1b404a97c4a5e63d453bed",
      "value": " 2655/2655 [01:17&lt;00:00, 34.13it/s]"
     }
    },
    "8820f00b7ae84166924d86151da959e0": {
     "model_module": "@jupyter-widgets/controls",
     "model_name": "HBoxModel",
     "state": {
      "_dom_classes": [],
      "_model_module": "@jupyter-widgets/controls",
      "_model_module_version": "1.5.0",
      "_model_name": "HBoxModel",
      "_view_count": null,
      "_view_module": "@jupyter-widgets/controls",
      "_view_module_version": "1.5.0",
      "_view_name": "HBoxView",
      "box_style": "",
      "children": [
       "IPY_MODEL_2d03a20203e94c3b87e1cad948a6fcd1",
       "IPY_MODEL_7886f73c38b44113a7a90288ebb33221"
      ],
      "layout": "IPY_MODEL_70d96d9515264df4a59a16f0cf13f23f"
     }
    },
    "8a5a41a90a61442a85e8a941bd94839d": {
     "model_module": "@jupyter-widgets/base",
     "model_name": "LayoutModel",
     "state": {
      "_model_module": "@jupyter-widgets/base",
      "_model_module_version": "1.2.0",
      "_model_name": "LayoutModel",
      "_view_count": null,
      "_view_module": "@jupyter-widgets/base",
      "_view_module_version": "1.2.0",
      "_view_name": "LayoutView",
      "align_content": null,
      "align_items": null,
      "align_self": null,
      "border": null,
      "bottom": null,
      "display": null,
      "flex": null,
      "flex_flow": null,
      "grid_area": null,
      "grid_auto_columns": null,
      "grid_auto_flow": null,
      "grid_auto_rows": null,
      "grid_column": null,
      "grid_gap": null,
      "grid_row": null,
      "grid_template_areas": null,
      "grid_template_columns": null,
      "grid_template_rows": null,
      "height": null,
      "justify_content": null,
      "justify_items": null,
      "left": null,
      "margin": null,
      "max_height": null,
      "max_width": null,
      "min_height": null,
      "min_width": null,
      "object_fit": null,
      "object_position": null,
      "order": null,
      "overflow": null,
      "overflow_x": null,
      "overflow_y": null,
      "padding": null,
      "right": null,
      "top": null,
      "visibility": null,
      "width": null
     }
    },
    "8d81db5e1dd540dd9328dc7048d8d9f7": {
     "model_module": "@jupyter-widgets/controls",
     "model_name": "HBoxModel",
     "state": {
      "_dom_classes": [],
      "_model_module": "@jupyter-widgets/controls",
      "_model_module_version": "1.5.0",
      "_model_name": "HBoxModel",
      "_view_count": null,
      "_view_module": "@jupyter-widgets/controls",
      "_view_module_version": "1.5.0",
      "_view_name": "HBoxView",
      "box_style": "",
      "children": [
       "IPY_MODEL_916957a8384645f09e2b05e987de8962",
       "IPY_MODEL_2d6fe60ac558494c8ef6ceb53042802d"
      ],
      "layout": "IPY_MODEL_158beb542a97469781471582c4ec0423"
     }
    },
    "916957a8384645f09e2b05e987de8962": {
     "model_module": "@jupyter-widgets/controls",
     "model_name": "FloatProgressModel",
     "state": {
      "_dom_classes": [],
      "_model_module": "@jupyter-widgets/controls",
      "_model_module_version": "1.5.0",
      "_model_name": "FloatProgressModel",
      "_view_count": null,
      "_view_module": "@jupyter-widgets/controls",
      "_view_module_version": "1.5.0",
      "_view_name": "ProgressView",
      "bar_style": "success",
      "description": "100%",
      "description_tooltip": null,
      "layout": "IPY_MODEL_4b43eea2169f4a638b613b7fc8293e69",
      "max": 470,
      "min": 0,
      "orientation": "horizontal",
      "style": "IPY_MODEL_0bfbc2e0e8244a2a963d1dd02376630d",
      "value": 470
     }
    },
    "a655d61f6d1b404a97c4a5e63d453bed": {
     "model_module": "@jupyter-widgets/controls",
     "model_name": "DescriptionStyleModel",
     "state": {
      "_model_module": "@jupyter-widgets/controls",
      "_model_module_version": "1.5.0",
      "_model_name": "DescriptionStyleModel",
      "_view_count": null,
      "_view_module": "@jupyter-widgets/base",
      "_view_module_version": "1.2.0",
      "_view_name": "StyleView",
      "description_width": ""
     }
    },
    "a70a15cfbf8947c69029f9324770d8b9": {
     "model_module": "@jupyter-widgets/controls",
     "model_name": "FloatProgressModel",
     "state": {
      "_dom_classes": [],
      "_model_module": "@jupyter-widgets/controls",
      "_model_module_version": "1.5.0",
      "_model_name": "FloatProgressModel",
      "_view_count": null,
      "_view_module": "@jupyter-widgets/controls",
      "_view_module_version": "1.5.0",
      "_view_name": "ProgressView",
      "bar_style": "success",
      "description": "100%",
      "description_tooltip": null,
      "layout": "IPY_MODEL_f71c644b36b948c5af2d345746581ed8",
      "max": 2655,
      "min": 0,
      "orientation": "horizontal",
      "style": "IPY_MODEL_daf7171043114a4e884f3c07707f7576",
      "value": 2655
     }
    },
    "ac4f7417a4574bfd868fa5addc523aa6": {
     "model_module": "@jupyter-widgets/controls",
     "model_name": "ProgressStyleModel",
     "state": {
      "_model_module": "@jupyter-widgets/controls",
      "_model_module_version": "1.5.0",
      "_model_name": "ProgressStyleModel",
      "_view_count": null,
      "_view_module": "@jupyter-widgets/base",
      "_view_module_version": "1.2.0",
      "_view_name": "StyleView",
      "bar_color": null,
      "description_width": "initial"
     }
    },
    "c562abc668594bcf8c26e0577a9507d6": {
     "model_module": "@jupyter-widgets/base",
     "model_name": "LayoutModel",
     "state": {
      "_model_module": "@jupyter-widgets/base",
      "_model_module_version": "1.2.0",
      "_model_name": "LayoutModel",
      "_view_count": null,
      "_view_module": "@jupyter-widgets/base",
      "_view_module_version": "1.2.0",
      "_view_name": "LayoutView",
      "align_content": null,
      "align_items": null,
      "align_self": null,
      "border": null,
      "bottom": null,
      "display": null,
      "flex": null,
      "flex_flow": null,
      "grid_area": null,
      "grid_auto_columns": null,
      "grid_auto_flow": null,
      "grid_auto_rows": null,
      "grid_column": null,
      "grid_gap": null,
      "grid_row": null,
      "grid_template_areas": null,
      "grid_template_columns": null,
      "grid_template_rows": null,
      "height": null,
      "justify_content": null,
      "justify_items": null,
      "left": null,
      "margin": null,
      "max_height": null,
      "max_width": null,
      "min_height": null,
      "min_width": null,
      "object_fit": null,
      "object_position": null,
      "order": null,
      "overflow": null,
      "overflow_x": null,
      "overflow_y": null,
      "padding": null,
      "right": null,
      "top": null,
      "visibility": null,
      "width": null
     }
    },
    "c719dc6e69e344a3be40db189d8c3f3a": {
     "model_module": "@jupyter-widgets/base",
     "model_name": "LayoutModel",
     "state": {
      "_model_module": "@jupyter-widgets/base",
      "_model_module_version": "1.2.0",
      "_model_name": "LayoutModel",
      "_view_count": null,
      "_view_module": "@jupyter-widgets/base",
      "_view_module_version": "1.2.0",
      "_view_name": "LayoutView",
      "align_content": null,
      "align_items": null,
      "align_self": null,
      "border": null,
      "bottom": null,
      "display": null,
      "flex": null,
      "flex_flow": null,
      "grid_area": null,
      "grid_auto_columns": null,
      "grid_auto_flow": null,
      "grid_auto_rows": null,
      "grid_column": null,
      "grid_gap": null,
      "grid_row": null,
      "grid_template_areas": null,
      "grid_template_columns": null,
      "grid_template_rows": null,
      "height": null,
      "justify_content": null,
      "justify_items": null,
      "left": null,
      "margin": null,
      "max_height": null,
      "max_width": null,
      "min_height": null,
      "min_width": null,
      "object_fit": null,
      "object_position": null,
      "order": null,
      "overflow": null,
      "overflow_x": null,
      "overflow_y": null,
      "padding": null,
      "right": null,
      "top": null,
      "visibility": null,
      "width": null
     }
    },
    "ca35164d78084bf1a8393e8aca20709b": {
     "model_module": "@jupyter-widgets/base",
     "model_name": "LayoutModel",
     "state": {
      "_model_module": "@jupyter-widgets/base",
      "_model_module_version": "1.2.0",
      "_model_name": "LayoutModel",
      "_view_count": null,
      "_view_module": "@jupyter-widgets/base",
      "_view_module_version": "1.2.0",
      "_view_name": "LayoutView",
      "align_content": null,
      "align_items": null,
      "align_self": null,
      "border": null,
      "bottom": null,
      "display": null,
      "flex": null,
      "flex_flow": null,
      "grid_area": null,
      "grid_auto_columns": null,
      "grid_auto_flow": null,
      "grid_auto_rows": null,
      "grid_column": null,
      "grid_gap": null,
      "grid_row": null,
      "grid_template_areas": null,
      "grid_template_columns": null,
      "grid_template_rows": null,
      "height": null,
      "justify_content": null,
      "justify_items": null,
      "left": null,
      "margin": null,
      "max_height": null,
      "max_width": null,
      "min_height": null,
      "min_width": null,
      "object_fit": null,
      "object_position": null,
      "order": null,
      "overflow": null,
      "overflow_x": null,
      "overflow_y": null,
      "padding": null,
      "right": null,
      "top": null,
      "visibility": null,
      "width": null
     }
    },
    "daf7171043114a4e884f3c07707f7576": {
     "model_module": "@jupyter-widgets/controls",
     "model_name": "ProgressStyleModel",
     "state": {
      "_model_module": "@jupyter-widgets/controls",
      "_model_module_version": "1.5.0",
      "_model_name": "ProgressStyleModel",
      "_view_count": null,
      "_view_module": "@jupyter-widgets/base",
      "_view_module_version": "1.2.0",
      "_view_name": "StyleView",
      "bar_color": null,
      "description_width": "initial"
     }
    },
    "e123f4d83f8a4fa699a834a4a68811b7": {
     "model_module": "@jupyter-widgets/controls",
     "model_name": "DescriptionStyleModel",
     "state": {
      "_model_module": "@jupyter-widgets/controls",
      "_model_module_version": "1.5.0",
      "_model_name": "DescriptionStyleModel",
      "_view_count": null,
      "_view_module": "@jupyter-widgets/base",
      "_view_module_version": "1.2.0",
      "_view_name": "StyleView",
      "description_width": ""
     }
    },
    "e2278f2c2217423ea3991a8c37c4fb78": {
     "model_module": "@jupyter-widgets/base",
     "model_name": "LayoutModel",
     "state": {
      "_model_module": "@jupyter-widgets/base",
      "_model_module_version": "1.2.0",
      "_model_name": "LayoutModel",
      "_view_count": null,
      "_view_module": "@jupyter-widgets/base",
      "_view_module_version": "1.2.0",
      "_view_name": "LayoutView",
      "align_content": null,
      "align_items": null,
      "align_self": null,
      "border": null,
      "bottom": null,
      "display": null,
      "flex": null,
      "flex_flow": null,
      "grid_area": null,
      "grid_auto_columns": null,
      "grid_auto_flow": null,
      "grid_auto_rows": null,
      "grid_column": null,
      "grid_gap": null,
      "grid_row": null,
      "grid_template_areas": null,
      "grid_template_columns": null,
      "grid_template_rows": null,
      "height": null,
      "justify_content": null,
      "justify_items": null,
      "left": null,
      "margin": null,
      "max_height": null,
      "max_width": null,
      "min_height": null,
      "min_width": null,
      "object_fit": null,
      "object_position": null,
      "order": null,
      "overflow": null,
      "overflow_x": null,
      "overflow_y": null,
      "padding": null,
      "right": null,
      "top": null,
      "visibility": null,
      "width": null
     }
    },
    "e6216dd9651a4c768f65c63575aaf60a": {
     "model_module": "@jupyter-widgets/controls",
     "model_name": "DescriptionStyleModel",
     "state": {
      "_model_module": "@jupyter-widgets/controls",
      "_model_module_version": "1.5.0",
      "_model_name": "DescriptionStyleModel",
      "_view_count": null,
      "_view_module": "@jupyter-widgets/base",
      "_view_module_version": "1.2.0",
      "_view_name": "StyleView",
      "description_width": ""
     }
    },
    "f2515a594d374024baa671812b36bb8a": {
     "model_module": "@jupyter-widgets/controls",
     "model_name": "DescriptionStyleModel",
     "state": {
      "_model_module": "@jupyter-widgets/controls",
      "_model_module_version": "1.5.0",
      "_model_name": "DescriptionStyleModel",
      "_view_count": null,
      "_view_module": "@jupyter-widgets/base",
      "_view_module_version": "1.2.0",
      "_view_name": "StyleView",
      "description_width": ""
     }
    },
    "f531a87d50ef4096b6df447bb986c126": {
     "model_module": "@jupyter-widgets/controls",
     "model_name": "DescriptionStyleModel",
     "state": {
      "_model_module": "@jupyter-widgets/controls",
      "_model_module_version": "1.5.0",
      "_model_name": "DescriptionStyleModel",
      "_view_count": null,
      "_view_module": "@jupyter-widgets/base",
      "_view_module_version": "1.2.0",
      "_view_name": "StyleView",
      "description_width": ""
     }
    },
    "f562dd2fa8c84c8ebfc11b5ede94f762": {
     "model_module": "@jupyter-widgets/controls",
     "model_name": "ProgressStyleModel",
     "state": {
      "_model_module": "@jupyter-widgets/controls",
      "_model_module_version": "1.5.0",
      "_model_name": "ProgressStyleModel",
      "_view_count": null,
      "_view_module": "@jupyter-widgets/base",
      "_view_module_version": "1.2.0",
      "_view_name": "StyleView",
      "bar_color": null,
      "description_width": "initial"
     }
    },
    "f71c644b36b948c5af2d345746581ed8": {
     "model_module": "@jupyter-widgets/base",
     "model_name": "LayoutModel",
     "state": {
      "_model_module": "@jupyter-widgets/base",
      "_model_module_version": "1.2.0",
      "_model_name": "LayoutModel",
      "_view_count": null,
      "_view_module": "@jupyter-widgets/base",
      "_view_module_version": "1.2.0",
      "_view_name": "LayoutView",
      "align_content": null,
      "align_items": null,
      "align_self": null,
      "border": null,
      "bottom": null,
      "display": null,
      "flex": null,
      "flex_flow": null,
      "grid_area": null,
      "grid_auto_columns": null,
      "grid_auto_flow": null,
      "grid_auto_rows": null,
      "grid_column": null,
      "grid_gap": null,
      "grid_row": null,
      "grid_template_areas": null,
      "grid_template_columns": null,
      "grid_template_rows": null,
      "height": null,
      "justify_content": null,
      "justify_items": null,
      "left": null,
      "margin": null,
      "max_height": null,
      "max_width": null,
      "min_height": null,
      "min_width": null,
      "object_fit": null,
      "object_position": null,
      "order": null,
      "overflow": null,
      "overflow_x": null,
      "overflow_y": null,
      "padding": null,
      "right": null,
      "top": null,
      "visibility": null,
      "width": null
     }
    },
    "fbc10c1693a24c3f8d806b9c496d69c8": {
     "model_module": "@jupyter-widgets/controls",
     "model_name": "HTMLModel",
     "state": {
      "_dom_classes": [],
      "_model_module": "@jupyter-widgets/controls",
      "_model_module_version": "1.5.0",
      "_model_name": "HTMLModel",
      "_view_count": null,
      "_view_module": "@jupyter-widgets/controls",
      "_view_module_version": "1.5.0",
      "_view_name": "HTMLView",
      "description": "",
      "description_tooltip": null,
      "layout": "IPY_MODEL_ca35164d78084bf1a8393e8aca20709b",
      "placeholder": "​",
      "style": "IPY_MODEL_e123f4d83f8a4fa699a834a4a68811b7",
      "value": " 1290/1290 [00:04&lt;00:00, 286.61it/s]"
     }
    }
   }
  }
 },
 "nbformat": 4,
 "nbformat_minor": 1
}
