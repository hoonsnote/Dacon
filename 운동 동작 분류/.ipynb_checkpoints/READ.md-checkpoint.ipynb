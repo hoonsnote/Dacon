{
 "cells": [
  {
   "cell_type": "markdown",
   "metadata": {},
   "source": [
    "\n",
    "본 대회의 작업 과정은 다음과 같습니다.\n",
    "\n",
    "1. Data augmentation : \n",
    "총 3,125개의 Label 데이터 중 Label 26(Non-exercise)데이터의 수는 1,518개로 약 50%를 차지하여, 이 외 Label만 Augmentation하여 Class Imbalance 문제를 해소하고자 하였습니다. Sensor data augmentation을 위해서, 다양한 방법 중, 1)Shift, 2) Time Warp, 3) Magnitude Warp 방식을 조합하여 활용하였습니다.(참고 : https://github.com/terryum/Data-Augmentation-For-Wearable-Sensor-Data/blob/master/Example_DataAugmentation_TimeseriesData.ipynb)\n",
    "\n",
    "2. Multi-Sensor Data multimodal learning : \n",
    "서로 다른 acc, gy 센서 데이터를 분리한 후 1DCNN+LSTM Layer를 통해 추출된 각각의 임베딩 값을 Concatenate하여 Classification Layer로 Input되는 구조로 모델링 하였습니다."
   ]
  }
 ],
 "metadata": {
  "kernelspec": {
   "display_name": "Python 3",
   "language": "python",
   "name": "python3"
  },
  "language_info": {
   "codemirror_mode": {
    "name": "ipython",
    "version": 3
   },
   "file_extension": ".py",
   "mimetype": "text/x-python",
   "name": "python",
   "nbconvert_exporter": "python",
   "pygments_lexer": "ipython3",
   "version": "3.8.3"
  }
 },
 "nbformat": 4,
 "nbformat_minor": 4
}
